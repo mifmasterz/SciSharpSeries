{
 "cells": [
  {
   "cell_type": "code",
   "execution_count": 1,
   "id": "outside-admission",
   "metadata": {},
   "outputs": [
    {
     "data": {
      "text/html": [
       "\r\n",
       "<div>\r\n",
       "    <div id='dotnet-interactive-this-cell-34804.Microsoft.DotNet.Interactive.Http.HttpPort' style='display: none'>\r\n",
       "        The below script needs to be able to find the current output cell; this is an easy method to get it.\r\n",
       "    </div>\r\n",
       "    <script type='text/javascript'>\r\n",
       "async function probeAddresses(probingAddresses) {\r\n",
       "    function timeout(ms, promise) {\r\n",
       "        return new Promise(function (resolve, reject) {\r\n",
       "            setTimeout(function () {\r\n",
       "                reject(new Error('timeout'))\r\n",
       "            }, ms)\r\n",
       "            promise.then(resolve, reject)\r\n",
       "        })\r\n",
       "    }\r\n",
       "\r\n",
       "    if (Array.isArray(probingAddresses)) {\r\n",
       "        for (let i = 0; i < probingAddresses.length; i++) {\r\n",
       "\r\n",
       "            let rootUrl = probingAddresses[i];\r\n",
       "\r\n",
       "            if (!rootUrl.endsWith('/')) {\r\n",
       "                rootUrl = `${rootUrl}/`;\r\n",
       "            }\r\n",
       "\r\n",
       "            try {\r\n",
       "                let response = await timeout(1000, fetch(`${rootUrl}discovery`, {\r\n",
       "                    method: 'POST',\r\n",
       "                    cache: 'no-cache',\r\n",
       "                    mode: 'cors',\r\n",
       "                    timeout: 1000,\r\n",
       "                    headers: {\r\n",
       "                        'Content-Type': 'text/plain'\r\n",
       "                    },\r\n",
       "                    body: probingAddresses[i]\r\n",
       "                }));\r\n",
       "\r\n",
       "                if (response.status == 200) {\r\n",
       "                    return rootUrl;\r\n",
       "                }\r\n",
       "            }\r\n",
       "            catch (e) { }\r\n",
       "        }\r\n",
       "    }\r\n",
       "}\r\n",
       "\r\n",
       "function loadDotnetInteractiveApi() {\r\n",
       "    probeAddresses([\"http://172.28.96.1:1000/\", \"http://192.168.1.101:1000/\", \"http://127.0.0.1:1000/\"])\r\n",
       "        .then((root) => {\r\n",
       "        // use probing to find host url and api resources\r\n",
       "        // load interactive helpers and language services\r\n",
       "        let dotnetInteractiveRequire = require.config({\r\n",
       "        context: '34804.Microsoft.DotNet.Interactive.Http.HttpPort',\r\n",
       "                paths:\r\n",
       "            {\r\n",
       "                'dotnet-interactive': `${root}resources`\r\n",
       "                }\r\n",
       "        }) || require;\r\n",
       "\r\n",
       "            window.dotnetInteractiveRequire = dotnetInteractiveRequire;\r\n",
       "\r\n",
       "            window.configureRequireFromExtension = function(extensionName, extensionCacheBuster) {\r\n",
       "                let paths = {};\r\n",
       "                paths[extensionName] = `${root}extensions/${extensionName}/resources/`;\r\n",
       "                \r\n",
       "                let internalRequire = require.config({\r\n",
       "                    context: extensionCacheBuster,\r\n",
       "                    paths: paths,\r\n",
       "                    urlArgs: `cacheBuster=${extensionCacheBuster}`\r\n",
       "                    }) || require;\r\n",
       "\r\n",
       "                return internalRequire\r\n",
       "            };\r\n",
       "        \r\n",
       "            dotnetInteractiveRequire([\r\n",
       "                    'dotnet-interactive/dotnet-interactive'\r\n",
       "                ],\r\n",
       "                function (dotnet) {\r\n",
       "                    dotnet.init(window);\r\n",
       "                },\r\n",
       "                function (error) {\r\n",
       "                    console.log(error);\r\n",
       "                }\r\n",
       "            );\r\n",
       "        })\r\n",
       "        .catch(error => {console.log(error);});\r\n",
       "    }\r\n",
       "\r\n",
       "// ensure `require` is available globally\r\n",
       "if ((typeof(require) !==  typeof(Function)) || (typeof(require.config) !== typeof(Function))) {\r\n",
       "    let require_script = document.createElement('script');\r\n",
       "    require_script.setAttribute('src', 'https://cdnjs.cloudflare.com/ajax/libs/require.js/2.3.6/require.min.js');\r\n",
       "    require_script.setAttribute('type', 'text/javascript');\r\n",
       "    \r\n",
       "    \r\n",
       "    require_script.onload = function() {\r\n",
       "        loadDotnetInteractiveApi();\r\n",
       "    };\r\n",
       "\r\n",
       "    document.getElementsByTagName('head')[0].appendChild(require_script);\r\n",
       "}\r\n",
       "else {\r\n",
       "    loadDotnetInteractiveApi();\r\n",
       "}\r\n",
       "\r\n",
       "    </script>\r\n",
       "</div>"
      ]
     },
     "metadata": {},
     "output_type": "display_data"
    },
    {
     "data": {
      "text/html": [
       "<div><div><strong>Restore sources</strong><ul><li><span>https://pkgs.dev.azure.com/dnceng/public/_packaging/dotnet-tools/nuget/v3/index.json</span></li><li><span>https://pkgs.dev.azure.com/dnceng/public/_packaging/dotnet5/nuget/v3/index.json</span></li></ul></div><div></div><div><strong>Installed Packages</strong><ul><li><span>Microsoft.Data.Analysis, 0.19.0</span></li><li><span>XPlot.Plotly.Interactive, 4.0.6</span></li></ul></div></div>"
      ]
     },
     "metadata": {},
     "output_type": "display_data"
    },
    {
     "data": {
      "text/markdown": [
       "Loading extensions from `XPlot.Plotly.Interactive.dll`"
      ]
     },
     "metadata": {},
     "output_type": "display_data"
    },
    {
     "data": {
      "text/markdown": [
       "Configuring PowerShell Kernel for XPlot.Plotly integration."
      ]
     },
     "metadata": {},
     "output_type": "display_data"
    },
    {
     "data": {
      "text/markdown": [
       "Installed support for XPlot.Plotly."
      ]
     },
     "metadata": {},
     "output_type": "display_data"
    },
    {
     "data": {
      "text/markdown": [
       "Loading extensions from `Microsoft.Data.Analysis.Interactive.dll`"
      ]
     },
     "metadata": {},
     "output_type": "display_data"
    }
   ],
   "source": [
    "#i \"nuget:https://pkgs.dev.azure.com/dnceng/public/_packaging/dotnet5/nuget/v3/index.json\" \n",
    "#i \"nuget:https://pkgs.dev.azure.com/dnceng/public/_packaging/dotnet-tools/nuget/v3/index.json\" \n",
    "\n",
    "#r \"nuget:Microsoft.Data.Analysis,0.19.0\"\n",
    "#r \"nuget:XPlot.Plotly.Interactive, 4.0.6\"\n",
    "\n",
    "using Microsoft.Data.Analysis;"
   ]
  },
  {
   "cell_type": "code",
   "execution_count": 2,
   "id": "efficient-lucas",
   "metadata": {},
   "outputs": [],
   "source": [
    "PrimitiveDataFrameColumn<DateTime> dateTimes = new PrimitiveDataFrameColumn<DateTime>(\"DateTimes\"); // Default length is 0.\n",
    "PrimitiveDataFrameColumn<int> ints = new PrimitiveDataFrameColumn<int>(\"Ints\", 3); // Makes a column of length 3. Filled with nulls initially\n",
    "StringDataFrameColumn strings = new StringDataFrameColumn(\"Strings\", 3); // Makes a column of length 3. Filled with nulls initially"
   ]
  },
  {
   "cell_type": "code",
   "execution_count": 3,
   "id": "popular-popularity",
   "metadata": {},
   "outputs": [],
   "source": [
    "// Append 3 values to dateTimes\n",
    "dateTimes.Append(DateTime.Parse(\"2019/01/01\"));\n",
    "dateTimes.Append(DateTime.Parse(\"2019/01/01\"));\n",
    "dateTimes.Append(DateTime.Parse(\"2019/01/02\"));"
   ]
  },
  {
   "cell_type": "code",
   "execution_count": 4,
   "id": "oriented-southeast",
   "metadata": {},
   "outputs": [],
   "source": [
    "DataFrame df = new DataFrame(dateTimes, ints, strings ); // This will throw if the columns are of different lengths\n"
   ]
  },
  {
   "cell_type": "code",
   "execution_count": 5,
   "id": "patient-going",
   "metadata": {},
   "outputs": [
    {
     "data": {
      "text/html": [
       "<table id=\"table_637818843949274674\"><thead><tr><th><i>index</i></th><th>DateTimes</th><th>Ints</th><th>Strings</th></tr></thead><tbody><tr><td><i><div class=\"dni-plaintext\">0</div></i></td><td><span>2019-01-01 00:00:00Z</span></td><td><div class=\"dni-plaintext\">&lt;null&gt;</div></td><td><div class=\"dni-plaintext\">&lt;null&gt;</div></td></tr><tr><td><i><div class=\"dni-plaintext\">1</div></i></td><td><span>2019-01-01 00:00:00Z</span></td><td><div class=\"dni-plaintext\">&lt;null&gt;</div></td><td><div class=\"dni-plaintext\">&lt;null&gt;</div></td></tr><tr><td><i><div class=\"dni-plaintext\">2</div></i></td><td><span>2019-01-02 00:00:00Z</span></td><td><div class=\"dni-plaintext\">&lt;null&gt;</div></td><td><div class=\"dni-plaintext\">&lt;null&gt;</div></td></tr></tbody></table>"
      ]
     },
     "execution_count": 5,
     "metadata": {},
     "output_type": "execute_result"
    }
   ],
   "source": [
    "df"
   ]
  },
  {
   "cell_type": "code",
   "execution_count": 6,
   "id": "infrared-tutorial",
   "metadata": {},
   "outputs": [
    {
     "data": {
      "text/html": [
       "<table id=\"table_637818844040560525\"><thead><tr><th><i>index</i></th><th>DateTimes</th><th>Ints</th><th>Strings</th></tr></thead><tbody><tr><td><i><div class=\"dni-plaintext\">0</div></i></td><td><span>2019-01-01 00:00:00Z</span></td><td><div class=\"dni-plaintext\">10</div></td><td><div class=\"dni-plaintext\">&lt;null&gt;</div></td></tr><tr><td><i><div class=\"dni-plaintext\">1</div></i></td><td><span>2019-01-01 00:00:00Z</span></td><td><div class=\"dni-plaintext\">&lt;null&gt;</div></td><td><div class=\"dni-plaintext\">&lt;null&gt;</div></td></tr><tr><td><i><div class=\"dni-plaintext\">2</div></i></td><td><span>2019-01-02 00:00:00Z</span></td><td><div class=\"dni-plaintext\">&lt;null&gt;</div></td><td><div class=\"dni-plaintext\">&lt;null&gt;</div></td></tr></tbody></table>"
      ]
     },
     "execution_count": 6,
     "metadata": {},
     "output_type": "execute_result"
    }
   ],
   "source": [
    "// To change a value directly through df\n",
    "df[0, 1] = 10; // 0 is the rowIndex, and 1 is the columnIndex. This sets the 0th value in the Ints columns to 10\n",
    "df"
   ]
  },
  {
   "cell_type": "code",
   "execution_count": 7,
   "id": "careful-mills",
   "metadata": {},
   "outputs": [
    {
     "data": {
      "text/html": [
       "<table id=\"table_637818844118650042\"><thead><tr><th><i>index</i></th><th>DateTimes</th><th>Ints</th><th>Strings</th></tr></thead><tbody><tr><td><i><div class=\"dni-plaintext\">0</div></i></td><td><span>2019-01-01 00:00:00Z</span></td><td><div class=\"dni-plaintext\">10</div></td><td><div class=\"dni-plaintext\">&lt;null&gt;</div></td></tr><tr><td><i><div class=\"dni-plaintext\">1</div></i></td><td><span>2019-01-01 00:00:00Z</span></td><td><div class=\"dni-plaintext\">100</div></td><td>Foo!</td></tr><tr><td><i><div class=\"dni-plaintext\">2</div></i></td><td><span>2019-01-02 00:00:00Z</span></td><td><div class=\"dni-plaintext\">&lt;null&gt;</div></td><td><div class=\"dni-plaintext\">&lt;null&gt;</div></td></tr></tbody></table>"
      ]
     },
     "execution_count": 7,
     "metadata": {},
     "output_type": "execute_result"
    }
   ],
   "source": [
    "// Modify ints and strings columns by indexing\n",
    "ints[1] = 100;\n",
    "strings[1] = \"Foo!\";\n",
    "df"
   ]
  },
  {
   "cell_type": "code",
   "execution_count": 8,
   "id": "afraid-latino",
   "metadata": {},
   "outputs": [
    {
     "data": {
      "text/html": [
       "<table id=\"table_637818844196738908\"><thead><tr><th><i>index</i></th><th>Info</th><th>DateTimes</th><th>Ints</th><th>Strings</th></tr></thead><tbody><tr><td><i><div class=\"dni-plaintext\">0</div></i></td><td>DataType</td><td>System.DateTime</td><td>System.Int32</td><td>System.String</td></tr><tr><td><i><div class=\"dni-plaintext\">1</div></i></td><td>Length (excluding null values)</td><td>3</td><td>2</td><td>3</td></tr></tbody></table>"
      ]
     },
     "execution_count": 8,
     "metadata": {},
     "output_type": "execute_result"
    }
   ],
   "source": [
    "// Indexing can throw when types don't match.\n",
    "// ints[1] = \"this will throw because I am a string\";  \n",
    "// Info can be used to figure out the type of data in a column. \n",
    "df.Info()"
   ]
  },
  {
   "cell_type": "code",
   "execution_count": 9,
   "id": "warming-bridal",
   "metadata": {},
   "outputs": [
    {
     "data": {
      "text/html": [
       "<table id=\"table_637818844278445068\"><thead><tr><th><i>index</i></th><th>DateTimes</th><th>Ints</th><th>Strings</th></tr></thead><tbody><tr><td><i><div class=\"dni-plaintext\">0</div></i></td><td><span>2019-01-01 00:00:00Z</span></td><td><div class=\"dni-plaintext\">15</div></td><td><div class=\"dni-plaintext\">&lt;null&gt;</div></td></tr><tr><td><i><div class=\"dni-plaintext\">1</div></i></td><td><span>2019-01-01 00:00:00Z</span></td><td><div class=\"dni-plaintext\">105</div></td><td>Foo!</td></tr><tr><td><i><div class=\"dni-plaintext\">2</div></i></td><td><span>2019-01-02 00:00:00Z</span></td><td><div class=\"dni-plaintext\">&lt;null&gt;</div></td><td><div class=\"dni-plaintext\">&lt;null&gt;</div></td></tr></tbody></table>"
      ]
     },
     "execution_count": 9,
     "metadata": {},
     "output_type": "execute_result"
    }
   ],
   "source": [
    "// Add 5 to ints through the DataFrame\n",
    "df[\"Ints\"].Add(5, inPlace: true);\n",
    "df"
   ]
  },
  {
   "cell_type": "code",
   "execution_count": 10,
   "id": "russian-creativity",
   "metadata": {},
   "outputs": [
    {
     "data": {
      "text/html": [
       "<table id=\"table_637818844360542359\"><thead><tr><th><i>index</i></th><th>DateTimes</th><th>Ints</th><th>Strings</th></tr></thead><tbody><tr><td><i><div class=\"dni-plaintext\">0</div></i></td><td><span>2019-01-01 00:00:00Z</span></td><td><div class=\"dni-plaintext\">300</div></td><td><div class=\"dni-plaintext\">&lt;null&gt;</div></td></tr><tr><td><i><div class=\"dni-plaintext\">1</div></i></td><td><span>2019-01-01 00:00:00Z</span></td><td><div class=\"dni-plaintext\">2100</div></td><td>Foo!</td></tr><tr><td><i><div class=\"dni-plaintext\">2</div></i></td><td><span>2019-01-02 00:00:00Z</span></td><td><div class=\"dni-plaintext\">&lt;null&gt;</div></td><td><div class=\"dni-plaintext\">&lt;null&gt;</div></td></tr></tbody></table>"
      ]
     },
     "execution_count": 10,
     "metadata": {},
     "output_type": "execute_result"
    }
   ],
   "source": [
    "// We can also use binary operators. Binary operators produce a copy, so assign it back to our Ints column \n",
    "df[\"Ints\"] = (ints / 5) * 100;\n",
    "df"
   ]
  },
  {
   "cell_type": "code",
   "execution_count": 11,
   "id": "included-bangkok",
   "metadata": {},
   "outputs": [
    {
     "data": {
      "text/html": [
       "<table id=\"table_637818844433785443\"><thead><tr><th><i>index</i></th><th>DateTimes</th><th>Ints</th><th>Strings</th></tr></thead><tbody><tr><td><i><div class=\"dni-plaintext\">0</div></i></td><td><span>2019-01-01 00:00:00Z</span></td><td><div class=\"dni-plaintext\">300</div></td><td>Bar</td></tr><tr><td><i><div class=\"dni-plaintext\">1</div></i></td><td><span>2019-01-01 00:00:00Z</span></td><td><div class=\"dni-plaintext\">2100</div></td><td>Foo!</td></tr><tr><td><i><div class=\"dni-plaintext\">2</div></i></td><td><span>2019-01-02 00:00:00Z</span></td><td><div class=\"dni-plaintext\">-1</div></td><td>Bar</td></tr></tbody></table>"
      ]
     },
     "execution_count": 11,
     "metadata": {},
     "output_type": "execute_result"
    }
   ],
   "source": [
    "// Fill nulls in our columns, if any. Ints[2], Strings[0] and Strings[1] are null\n",
    "df[\"Ints\"].FillNulls(-1, inPlace: true);\n",
    "df[\"Strings\"].FillNulls(\"Bar\", inPlace: true);\n",
    "df"
   ]
  },
  {
   "cell_type": "code",
   "execution_count": 12,
   "id": "listed-tribe",
   "metadata": {},
   "outputs": [
    {
     "data": {
      "text/html": [
       "<table><thead><tr><th><i>index</i></th><th><i>type</i></th><th>value</th></tr></thead><tbody><tr><td>0</td><td><span><a href=\"https://docs.microsoft.com/dotnet/api/system.datetime?view=net-5.0\">System.DateTime</a></span></td><td><span>2019-01-01 00:00:00Z</span></td></tr><tr><td>1</td><td><span><a href=\"https://docs.microsoft.com/dotnet/api/system.int32?view=net-5.0\">System.Int32</a></span></td><td><div class=\"dni-plaintext\">300</div></td></tr><tr><td>2</td><td><span><a href=\"https://docs.microsoft.com/dotnet/api/system.string?view=net-5.0\">System.String</a></span></td><td>Bar</td></tr></tbody></table>"
      ]
     },
     "execution_count": 12,
     "metadata": {},
     "output_type": "execute_result"
    }
   ],
   "source": [
    "// To inspect the first row\n",
    "DataFrameRow row0 = df.Rows[0];\n",
    "row0"
   ]
  },
  {
   "cell_type": "code",
   "execution_count": 13,
   "id": "general-supervision",
   "metadata": {},
   "outputs": [
    {
     "data": {
      "text/html": [
       "<table><thead><tr><th><i>index</i></th><th>value</th></tr></thead><tbody><tr><td>0</td><td><div class=\"dni-plaintext\">True</div></td></tr><tr><td>1</td><td><div class=\"dni-plaintext\">False</div></td></tr><tr><td>2</td><td><div class=\"dni-plaintext\">True</div></td></tr></tbody></table>"
      ]
     },
     "execution_count": 13,
     "metadata": {},
     "output_type": "execute_result"
    }
   ],
   "source": [
    "// Filter rows based on equality\n",
    "PrimitiveDataFrameColumn<bool> boolFilter = df[\"Strings\"].ElementwiseEquals(\"Bar\");\n",
    "boolFilter"
   ]
  },
  {
   "cell_type": "code",
   "execution_count": 14,
   "id": "amino-grammar",
   "metadata": {},
   "outputs": [
    {
     "data": {
      "text/html": [
       "<table id=\"table_637818844691216729\"><thead><tr><th><i>index</i></th><th>DateTimes</th><th>Ints</th><th>Strings</th></tr></thead><tbody><tr><td><i><div class=\"dni-plaintext\">0</div></i></td><td><span>2019-01-01 00:00:00Z</span></td><td><div class=\"dni-plaintext\">300</div></td><td>Bar</td></tr><tr><td><i><div class=\"dni-plaintext\">1</div></i></td><td><span>2019-01-02 00:00:00Z</span></td><td><div class=\"dni-plaintext\">-1</div></td><td>Bar</td></tr></tbody></table>"
      ]
     },
     "execution_count": 14,
     "metadata": {},
     "output_type": "execute_result"
    }
   ],
   "source": [
    "DataFrame filtered = df.Filter(boolFilter);\n",
    "filtered\n"
   ]
  },
  {
   "cell_type": "code",
   "execution_count": 15,
   "id": "pending-modem",
   "metadata": {},
   "outputs": [
    {
     "data": {
      "text/html": [
       "<table id=\"table_637818844838920118\"><thead><tr><th><i>index</i></th><th>DateTimes</th><th>Ints</th><th>Strings</th></tr></thead><tbody><tr><td><i><div class=\"dni-plaintext\">0</div></i></td><td><span>2019-01-02 00:00:00Z</span></td><td><div class=\"dni-plaintext\">-1</div></td><td>Bar</td></tr><tr><td><i><div class=\"dni-plaintext\">1</div></i></td><td><span>2019-01-01 00:00:00Z</span></td><td><div class=\"dni-plaintext\">300</div></td><td>Bar</td></tr><tr><td><i><div class=\"dni-plaintext\">2</div></i></td><td><span>2019-01-01 00:00:00Z</span></td><td><div class=\"dni-plaintext\">2100</div></td><td>Foo!</td></tr></tbody></table>"
      ]
     },
     "execution_count": 15,
     "metadata": {},
     "output_type": "execute_result"
    }
   ],
   "source": [
    "// Sort our dataframe using the Ints column\n",
    "DataFrame sorted = df.OrderBy(\"Ints\");\n",
    "sorted"
   ]
  },
  {
   "cell_type": "code",
   "execution_count": 16,
   "id": "driving-screen",
   "metadata": {},
   "outputs": [
    {
     "data": {
      "text/html": [
       "<table id=\"table_637818844918255278\"><thead><tr><th><i>index</i></th><th>DateTimes</th><th>Ints</th><th>Strings</th></tr></thead><tbody><tr><td><i><div class=\"dni-plaintext\">0</div></i></td><td><span>2019-01-01 00:00:00Z</span></td><td><div class=\"dni-plaintext\">2</div></td><td><div class=\"dni-plaintext\">2</div></td></tr><tr><td><i><div class=\"dni-plaintext\">1</div></i></td><td><span>2019-01-02 00:00:00Z</span></td><td><div class=\"dni-plaintext\">1</div></td><td><div class=\"dni-plaintext\">1</div></td></tr></tbody></table>"
      ]
     },
     "execution_count": 16,
     "metadata": {},
     "output_type": "execute_result"
    }
   ],
   "source": [
    "// GroupBy \n",
    "GroupBy groupBy = df.GroupBy(\"DateTimes\");\n",
    "// Count of values in each group\n",
    "DataFrame groupCounts = groupBy.Count();\n",
    "groupCounts"
   ]
  },
  {
   "cell_type": "code",
   "execution_count": 17,
   "id": "infinite-width",
   "metadata": {},
   "outputs": [
    {
     "data": {
      "text/html": [
       "<table id=\"table_637818844993461886\"><thead><tr><th><i>index</i></th><th>DateTimes</th><th>Ints</th></tr></thead><tbody><tr><td><i><div class=\"dni-plaintext\">0</div></i></td><td><span>2019-01-01 00:00:00Z</span></td><td><div class=\"dni-plaintext\">2400</div></td></tr><tr><td><i><div class=\"dni-plaintext\">1</div></i></td><td><span>2019-01-02 00:00:00Z</span></td><td><div class=\"dni-plaintext\">-1</div></td></tr></tbody></table>"
      ]
     },
     "execution_count": 17,
     "metadata": {},
     "output_type": "execute_result"
    }
   ],
   "source": [
    "// Alternatively find the sum of the values in each group in Ints\n",
    "DataFrame intsGroupSum = groupBy.Sum(\"Ints\");\n",
    "intsGroupSum"
   ]
  },
  {
   "cell_type": "code",
   "execution_count": 18,
   "id": "antique-anthropology",
   "metadata": {},
   "outputs": [],
   "source": [
    "using XPlot.Plotly;\n",
    "using System.Linq;"
   ]
  },
  {
   "cell_type": "code",
   "execution_count": 19,
   "id": "turkish-seattle",
   "metadata": {},
   "outputs": [
    {
     "data": {
      "text/html": [
       "<div><div><strong>Restore sources</strong><ul><li><span>https://pkgs.dev.azure.com/dnceng/public/_packaging/dotnet-tools/nuget/v3/index.json</span></li><li><span>https://pkgs.dev.azure.com/dnceng/public/_packaging/dotnet5/nuget/v3/index.json</span></li></ul></div><div></div><div><strong>Installed Packages</strong><ul><li><span>MathNet.Numerics, 4.9.0</span></li></ul></div></div>"
      ]
     },
     "metadata": {},
     "output_type": "display_data"
    }
   ],
   "source": [
    "#r \"nuget:MathNet.Numerics,4.9.0\""
   ]
  },
  {
   "cell_type": "code",
   "execution_count": 20,
   "id": "united-timber",
   "metadata": {},
   "outputs": [],
   "source": [
    "using MathNet.Numerics.Distributions;\n",
    "double mean = 0;\n",
    "double stdDev = 0.1;\n",
    "\n",
    "MathNet.Numerics.Distributions.Normal normalDist = new Normal(mean, stdDev);"
   ]
  },
  {
   "cell_type": "code",
   "execution_count": 21,
   "id": "nutritional-regression",
   "metadata": {},
   "outputs": [
    {
     "data": {
      "text/html": [
       "<!DOCTYPE html>\r\n",
       "<div style=\"width: 900px; height: 500px;\" id=\"da04f7ee-3e4e-430f-b121-52f124aa9801\"></div><script type=\"text/javascript\">\r\n",
       "\n",
       "var renderPlotly = function() {\n",
       "    var xplotRequire = require.config({context:'xplot-3.0.1',paths:{plotly:'https://cdn.plot.ly/plotly-1.49.2.min'}}) || require;\n",
       "    xplotRequire(['plotly'], function(Plotly) { \r\n",
       "\n",
       "            var data = [{\"type\":\"histogram\",\"x\":[-0.10196927869926908,-0.1789450368574304,0.10774623847800463,-0.03459908643707679,-0.05189423028193016,0.037929330434275245,0.039188913518624365,0.019421205794228683,0.041828658869367256,-0.13367298483453807,0.15131728580760964,-0.07617680136693587,-0.1210318704167873,-0.1786808395997387,-0.06696129558503423,0.015847352026702972,-0.20436436713043818,0.03462348893406393,-0.01128932892455694,-0.09365608232750094,-0.08972396204722288,0.0013429882861766837,0.04310678846031427,0.016287622656284827,0.04230216019953727,0.025213132096239724,-0.09853900094967633,0.03690670170341323,0.11634401526268201,0.13432798837557142,-0.09234376651760225,0.021295868295441132,-0.1961115228741067,-0.0028169912329301518,-0.058213629948778656,0.15810521163329536,-0.19764833877570911,0.03720525711205454,-0.12931890838760593,-0.20027096184640356,-0.07509697218507953,0.0848310272023488,-0.1344991158360097,-0.07835630756188751,-0.016730446090164133,0.20585917224420822,-0.10120691849610329,-0.07324674480445956,0.06147767388553685,-0.30972122565550453,0.038471033845340834,0.028404054898139665,0.025650187051132013,7.568608615550904E-05,-0.13730032869121386,-0.02435655590981868,0.0699269193329341,-0.1038124668146217,0.21627003456082866,0.14449054899863087,-0.23736478828391447,0.01107549751903797,-0.03396869934689413,-0.23097957181283357,0.0046710393439262175,0.03642122151346446,0.07545149549445168,0.0526648832664337,0.19078854652759897,0.06854718917018451,0.032817530151323576,0.07487514897141326,0.16767793571353445,-0.09173622025344019,0.1334955386234047,-0.11115223978537386,0.22591166465517182,-0.2533874601094834,0.14391974155163478,0.03602021432397644,-0.01876061906854587,-0.16386831198745883,-0.04812501597019837,0.1348392232480985,0.13933646693196042,-0.13054162431551966,0.0021947993514014087,0.0391651321502601,-0.033259233729126786,0.037833877042716,0.012401829280898686,-0.022185138273994712,-0.04930163687179556,0.03785356002291954,0.10451568515044592,-0.06486328750221491,0.053920402358865575,0.048625183046242526,-0.03214586645114797,0.14208415185755366,-0.1074233051009015,0.022337778065419565,0.021823387548821474,-0.15276403787083853,0.06483422774521173,-0.24521150010030773,-0.15677055674387513,-0.05231096966843817,-0.10866914053952076,-0.07823648571283691,-0.1576520426816663,0.13717653492475176,-0.07785604886598346,-0.06725911832731106,-0.053521321077206724,-0.05093625716413217,-0.10895895633848252,0.14525470016252956,0.024126471136101682,-0.03999530054786196,-0.0976399493418958,0.1536357029420071,-0.1501913810576127,-0.04701049278200902,-0.08438391465050066,0.08698590983599938,0.028683937502514873,-0.23033868918697858,-0.055541740838673394,-0.04502631940944923,0.11274662198177171,0.003742721932848932,0.07711534186684349,-0.017715430544633187,0.013445828266989548,-0.011822630813677135,-0.06522237141922384,0.06683538992142933,0.02197790511827644,0.06864746254961687,0.18897602346424044,0.10982172988507771,-0.12637186020508545,-0.10792771632516165,0.04859259706665042,0.10791308963661767,-0.01527372346631671,0.16379242809195582,0.14612193237080695,0.08837207947447126,0.022094809900363055,-0.07024634873869522,0.05945353391900006,0.07985108243796041,0.06725908961250653,-0.05769421088570501,0.09889917260065946,-0.1505028894576031,-0.2061471861763017,0.1275097371717171,0.06697379373253602,-0.1976959099189725,0.0001314278615796083,0.037924476981360755,-0.0007873478679328106,0.07150734238991235,0.009172780065397651,-0.053641555378146716,-0.03719799979803726,-0.09887728688469069,-0.1074264955494039,0.2443293042224001,-0.017603801937017365,0.03778800301961996,0.10538229464832718,-0.22791103294893747,0.16779760433085233,-0.007909620980444594,0.10628902863081985,0.050772570178932,0.13100616332754014,-0.06384762189975918,0.12181947594077121,-0.09603834750691999,-0.015545646016632247,0.07991345546257239,0.028291957539317143,0.02693421880623837,-0.10877948635172643,-0.04460768840660962,-0.08534427395760098,0.033666798994614104,0.04042985782468453,0.1341251404012282,0.07126651057906687,-0.07933891152243001,0.03711667297078996,0.14876376478189654,0.10700847866649812,0.15874438830287735,-0.0037184925659333266,-0.060646483079571635,-0.03527496023076238,-0.0023228349141582462,-0.037367533025542896,-0.00012837592446060308,-0.006945414753559262,-0.07348700117814282,-0.1587143689250532,-0.007623372145393055,-0.028000479182842288,0.028518013637661335,-0.09203923057827755,0.05403451681123596,-0.0434029473352799,-0.02776210372737231,0.02918472255589935,-0.09004573981503454,-0.1942367363048704,0.0367067920107003,-0.06362069938510224,0.2061886746491627,-0.07649805928119295,0.1240139475106506,0.2121468953577924,0.036437671910035,0.05947443963740894,-0.023050098452556032,0.05155707446264102,0.049453331834137824,0.06928712528201982,0.029551204614131937,-0.011980154079232256,0.029038094016429112,0.07498599904443182,-0.028166147385779817,-0.026887623290685753,-0.08315495187488241,-0.09214884735897122,0.033974801169124484,-0.010099478892713575,0.1681419009448452,0.01598091572038221,-0.05973871707155427,-0.07251602833401263,-0.03395622805863148,0.022009475201880527,-0.04674540071610899,0.1461273128148614,-0.09740292110306042,0.12037466691698682,-0.17566302345361312,-0.05884289082810765,-0.03634328846228433,0.13897755883286222,-0.1157227328550901,0.1403315027455167,-0.0310102718662576,0.04866826924506504,0.01932217830825709,-0.007427365104023669,0.008053825755597708,-0.11417416857822132,0.03399640242361237,-0.1020442656523561,0.026046311755058144,-0.14967019129381362,0.1737122928079942,-0.07787595114766266,0.06053640765235268,-0.24522011229994148,0.07140062976528898,0.10912347147562965,0.04380510734536843,0.03232111821398183,-0.2896214115533427,0.06792660363485772,0.006162458911731858,-0.11610469744918926,0.0900551248044225,-0.23475305390409487,-0.05320197539124355,0.06675570148475883,0.043975918991861374,-0.04959773606396121,0.1391739566559549,-0.14369098919231427,0.01088558618365302,-0.05729849321699555,-0.03915721814512968,0.13046250205477838,0.27819310680777515,0.019126113654573906,0.039626345642666275,-0.04955514124587354,0.06801619743771922,0.0862261719670536,-0.11888702975144093,0.11315987316035553,0.029380550484212647,-0.033135150523646496,0.17540579867133166,0.04485391931901527,0.026105782136846768,0.17304924888658815,0.10224501517552415,-0.08807790642968714,0.11695925814299633,-0.09235641910372618,0.07046215325020445,0.08664631625144162,-0.029061351296202066,-0.05824014071201736,0.0103332593876397,-0.07300186846355575,-0.037659352055836925,0.10764798670160121,-0.08584461915571856,-0.0015284441076046165,-0.16975171138019415,0.07740940305747158,-0.014776646019858326,0.003180447789305714,-0.05496255635794857,-0.16395813792806113,-0.09388526201728514,0.07710529149291495,-0.13825502298786227,-0.06185069502151711,-0.08479985466678713,0.0577083907265915,0.02292197371866274,0.11001667625199006,0.012449921645117401,-0.16048628291943792,0.02377755289755128,0.1420903350477438,-0.007427169239140812,-0.053244644608926445,0.057422505541531846,-0.12286165719897722,0.019047620348560924,0.11521149397343844,-0.09364059531046727,-0.03454670232454941,0.12411366475672825,-0.0745423490562593,0.021279201284464068,0.20387366293036435,-0.05546088248999329,-0.18784757659693566,0.12679494301523841,-0.007465978697619802,0.05702161697705427,-0.03897001250180159,-0.08428549177819868,-0.08967516586406946,0.0079694884036322,-0.07044643717324775,0.10586603912571094,0.06522394035912023,-0.040543891848826286,-0.20419603701634537,-0.11806614898092851,-0.009974483154939566,-0.09631447071577004,0.11965334311258767,0.040533211971597635,-0.23469080816067112,0.015608912868728803,0.08708658306051206,-0.015894583352303888,-0.06697864771548002,0.1825973019298035,0.12256166143574808,0.12376936034506025,0.08303513570331461,0.03738470542739969,-0.10135113363818911,0.16006198495053126,0.0414337167495617,-0.042068703720895745,-0.014919737292221655,-0.111709428156008,-0.004310355241867455,-0.036292125019722184,-0.019662359237193214,-0.1500427839435976,0.02074895593104785,-0.1021740137873445,-0.06873471222117414,0.04246076875374284,0.14790109147012695,0.04847842963601273,0.1970006081864321,0.09980034713704429,-0.12410653837976737,-0.04968597874655256,-0.05226905580475984,-0.10633615369984906,0.24595632289211175,-0.02757819812112888,-0.08655611970877339,0.06599663929323267,-0.05398931143583594,0.08240191804333005,-0.05968531343691111,-0.04584425858344218,-0.015072862815156497,-0.14744747238089653,0.1555567722035522,-0.09597925793435053,0.0657924842866523,-0.1512281549095917,0.012774455238020644,-0.13028443685378022,0.07747735733728611,0.058426532220802956,-0.05531276279488109,-0.049019741462754916,0.26325590183982184,0.09240680071000307,0.09589366922495193,0.08834431521375995,0.1969226361260221,-0.1528591445128267,-0.00025987375550699186,-0.15291542448772025,-0.006689944449619064,-0.031070332156320987,0.06897548618213507,-0.05623820301977622,0.04915269910528985,-0.038353481899671665,-0.0327624830109457,0.05550746825050984,0.1228669085606871,0.10173505565614023,0.08277973969773095,0.016194694847540558,-0.05650984659526392,-0.0032044215391743326,-0.11098874619715826,-0.1621738700349642,0.03568306591755186,0.019458034140324466,0.12763050050286845,-0.185337421508247,-0.04539551252524396,-0.018918206332458404,0.2007793914348026,0.041349378204306036,0.06718983898479595,-0.00465827783940411,0.10589302154142154,-0.07483999812249681,-0.06964308160938454,0.12782730471871614,-0.00417203561442486,0.0538497043415698,-0.0070828057876568115,-0.13214895072957356,-0.06526674367643578,-0.030511259626017626,-0.09229431196256767,-0.26495299696208036,-0.12459135479959325,-0.027751984774146678,-0.11061150420715166,-0.13923851591440778,-0.06368640415247094,0.08564067182271938,-0.09362345468208694,-0.02626056430803125,-0.05850584836793478,-0.06422604467572195,-0.01916416103641386,-0.002774773899945672,-0.01019952302237468,-0.08823568861345388,0.0275755561759518,0.04723379885350795,0.0015985725119494214,0.012320897134129061,0.010173069505025521,0.20844673469665273,-0.07080555999979282,0.13895683677680237,-0.01465663715329555,0.1782860941358792,-0.18136295636659294,-0.011636441932317056,0.19803926758906953,0.12807424133011536,0.0237291111781399,-0.13591677112920222,0.16203558421021177,-0.20091828222139024,-0.015280067114294728,0.018032146353813287,0.0947164463010595,-0.07094259052838019,-0.020834720976281574,-0.004310290044105194,0.17781520251954208,0.169450261448896,0.023342257732319613,-0.020108799524839426,0.051999538552248495,0.023656208461442965,-0.1760044444490244,0.006111933366803317,-0.11616370596822606,-0.190863276161247,0.061505415423263356,-0.025834149530301553,-0.004821361747157526,0.015107399844518803,0.20639533505677174,0.21259278742552512,-0.038837198411050995,-0.08868904413678846,0.11467179726977819,0.04841898409775017,0.042743064822262686,0.029196707580610243,-0.1469193855163255,-0.16562307848729893,0.021261581914998433,-0.03923464737991003,-0.031452669856551756,0.18458633874167352,0.18923560559142227,0.12427071918858773,-0.00571161581161044,-0.012835043679056676,0.055237682413830896,-0.06540842727491254,0.0010342405402638097,-0.034347745291501426,0.1209272933542681,0.04059002566827216,-0.010968994754655355,-0.040961208476772704,0.012300855357210662,-0.04098093382648682,0.058097928270816,0.1668542229984603,-0.0035780683532440727,-0.05706582736957421,-0.08897036565552174,0.07797542923378897,-0.08756831226605002,-0.14168308068932792,0.1406936874356822,0.002827155517568696,0.04704804423980925,0.10301378126616537,0.06679678361522426,-0.09265915110398416,0.07458849247425053,0.09654143827807954,0.26302276886643433,-0.019969917164812168,0.04631470818933835,-0.058134536055326314,0.05058979299402654,0.12247426849205185,0.08385399065368493,-0.05824793929077628,-0.13039933924600286,-0.15712892149695912,0.11073282041452769,0.08063302052034388,0.01754818519395855,-0.2576923543534447,-0.1896231256760943,-0.13293165716941974,-0.00792768958128573,0.10196605426170063,-0.04721816794700877,0.053214937884753025,-0.025230648019231597,0.01881564815081921,0.010970753569117713,0.005818739092103742,0.0330603038972414,0.1954694243918851,0.03340295751168192,0.008451103136381049,-0.03964401185063244,0.08380704735426298,-0.10394092658110665,0.05448915286922106,-0.01764177458520241,-0.032380292842575,-0.09444612387943002,0.0170830108428526,-0.24526694473866698,0.20723175764840185,-0.054221988081448375,0.03428691046596599,-0.14096390754937035,0.1105624638387361,0.08914443477855544,-0.06278864535761966,0.05426262166982959,0.07480884856650664,0.005834690360291033,-0.042384119449994304,0.05851532533533003,0.05737728272778514,0.006171190498039762,-0.053456456794451206,0.016856073061415396,0.05767055239978178,0.04974081174819031,-0.04597806181653996,-0.05320075555171319,-0.1306008998566238,-0.0007347662137577301,0.12330575465652115,-0.16076765458833137,-0.06125826378681154,-0.10973896255438387,-0.03365117628192807,0.12507505875955127,0.062357303304260016,-0.1809205601900142,0.10805246279956274,0.06014526054430302,-0.10475029974053274,-0.16299000579386413,0.21495933935037345,-0.11632020037154378,-0.14031379968665347,0.12025881538398314,0.0414918727949847,-0.2824001995528446,0.0025538304881312897,-0.04917782753742436,-0.0835357550061483,0.08611324967998799,-0.03968241173360787,-0.04118648781676621,-0.1468123348817709,-0.020059676102355515,-0.1256929732731453,0.09357280279231214,-0.0870692835108105,0.1564107936561356,-0.08107782787615524,-0.2799981285241734,-0.16294155764765927,-0.15853300904009948,-0.12726734845083612,-0.08590800366648649,-0.03654882728173034,0.0662025604658861,-0.11120226014959432,-0.08611556608562342,-0.033261075649188586,0.013340985215491461,-0.06695087530557926,0.27232428335154446,-0.017024227793252602,-0.05600590535901656,0.13122034059618992,0.1470506411433134,0.018569061460309465,0.09637291456989101,-0.17508866315583066,0.05696661915011419,0.013239314872492528,-0.030198184947727826,0.15024794415085418,-0.0008468679100339352,-0.06950888035086603,0.043231301878980076,-0.006722334910752666,-0.00455454238842386,-0.08831607421722663,-0.0843637097448256,-0.2101223276866608,-0.013635272163517332,0.2217161450155259,0.15522434906949847,-0.12532558713147043,0.0546834563414217,-0.14791962095442976,0.08150811807599795,-0.02855952013530047,0.02594106944818772,-0.03143971805594916,0.008314119554941865,-0.2678864996286352,-0.044755726939085985,-0.12963380875108746,-0.2164238366814599,-0.10681326724156098,-0.04659778505650374,0.008342481979436841,0.12102698462727689,-0.06645541158443492,0.11371631446972763,0.009492494280746472,0.003223081209672749,0.06069960994701647,-0.10826697597305127,0.1054423860004644,-0.004725197911828429,-0.003237756685259563,0.09213514866135862,-0.04404687885958127,0.018935139627789782,0.033966221306339986,-0.17049715055139636,0.049338228065631456,0.11719574909209887,-0.12827428116304582,-0.20988889672259178,0.09172255193259908,-0.026773412037219377,0.06679856717133892,-0.02244271099295128,-0.029912737398482037,-0.019229520729805633,0.09061634495777786,0.012661321466868762,0.024665751748047523,-0.06852123383764623,-0.013101011674483687,-0.07673998793659949,0.016027076872473484,-0.05292669714450363,-0.08059287833237574,0.19847156917600076,-0.024435727873817946,-0.11483515564480114,-0.2039144714948587,-0.09111708739759619,0.15705280487506879,0.19126081721344126,0.033229706231362795,-0.011079634763110703,0.10555247788437422,0.05241257699736358,-0.08282554286917358,0.028686567811092124,-0.016539596269872347,-0.11920501025798197,0.07702360624485294,0.0647948328334772,-0.10318063486245121,0.10634853001797161,0.014667251891844339,-0.03776428549275868,0.09164081621549472,0.008790587376517148,0.06315237936792335,0.007580995477419059,-0.13481913454389235,-0.09388892376437213,0.04989722941564291,0.11753496635183024,-0.029946870941347088,0.044094268211752136,0.15363371076773863,-0.0007105908239747935,0.004050220239130001,0.1287672002632416,-0.09807193634600407,0.061191649177017665,0.09037771698227842,0.07943431425802351,0.07593748575827569,0.1173895776941037,-0.11312274962963938,-0.009668815007365156,-0.11007498890541152,0.19456208683822573,-0.05605942126735805,-0.1502394446584694,0.08074134436403628,-0.03393485641061501,-0.07206874107234781,-0.07973751126619,-0.024790567010171377,0.04149020153599079,-0.0862025117575318,0.004440571570772947,0.07485188017978942,-0.05718538051790953,-0.16349845382846737,-0.08729114291223815,0.12098024323931644,0.01635005142219822,-0.12545393194615587,0.07122903847694047,-0.053429594930853586,0.03376010209316714,-0.011748473959601817,-4.689481001164025E-05,-0.07397282494607901,0.1356599247295379,0.04562712056898926,-0.0675388813131802,-0.05408958632712074,-0.04204065333908674,-0.23738191040806136,0.00937507328594214,0.18241444239427762,-0.052564423822867884,-0.13294265934987537,-0.09090667550216087,-0.00927072226478862,0.14250764344965874,0.12383007742108346,-0.07982187145919278,-0.13910537955751273,-0.018814871572471813,0.15349375635758936,0.07886236351303605,-0.012927453550080834,-0.04728626239844471,0.027597343992543086,-0.009747972653449314,0.0574656655683949,0.09986497411845077,-0.07178244544361329,0.06753929044751429,0.03445343297518826,0.009568861485149018,-0.036528992248704734,0.009924766784771291,-0.04038592982496206,0.016040033924884817,-0.07429422123606337,-0.005313563560110395,-0.05353738942732555,0.03003530789975071,-0.0812553608149306,0.022803164975452907,-0.06959372587060912,0.027667650030835673,0.24205836563686375,0.21123494714939764,0.11122974455601947,0.053569619629456756,-0.05882636101544301,-0.013160152443684387,-0.0711592637874471,-0.05994595283062407,-0.05057740184195253,-0.015330915506156804,-0.1314917857939353,-0.000399320397429511,0.13624724651792366,-0.07317307737898454,-0.025910498632626813,0.016821071692695273,-0.10010142235453419,0.10606486506933524,0.03688802542839772,-0.05631718056869477,-0.09279028382723235,-0.03467274027613786,0.07340380488599063,0.03125982993229136,-0.07418013762616327,-0.05841036413859096,-0.02679948356458487,-0.10899733401307417,0.11515250492012424,0.08766513582790178,-0.06925253389699025,-0.1628862494099096,-0.017580004139069152,0.2167869903257679,0.1728968727608574,-0.07638378274323204,0.007322926214863437,0.04169793491360252,0.024908346052185414,0.08027250346792522,-0.05616140256928575,0.005272323920182937,0.06249196816358682,0.05717029617186867,-0.030666650715093398,0.28469406531377794,0.10414900262749333,-0.026834017524875176,0.040552929599262384,0.0673320415834832,-0.180152781759911,-0.14373349591537543,0.06062897121711828,0.11047144485552529,0.011122678356405045,-0.028763698736848003,0.10628967708695258,0.026304719152575297,0.017388354232837435,-0.0532039431735187,-0.13546717114517937,0.05460918580872647,-0.17793258469500492,0.30394201140233906,0.012427471410485526,-0.20099438283595897,0.11623017966777777,-0.012845809786184631,-0.04160671930250897,-0.09384249674026462,0.12956804416435516,-0.05827691198163834,0.06118969483512285,0.06270047661686033,0.07090744580463387,-0.011201329875084431,0.09548396774592177,0.07284701978552159,0.0987508309272151,0.1107549529915535,0.048965496224834926,0.00573054881176558,-0.025678707166788974,-0.04617589480837245,-0.03689843717073235,0.009740139321371466,-0.05468254321570896,0.0719266920601092,-0.03535552431475985,-0.035209428834533534,0.04759529190048555,-0.12944091072159708,-0.017724579473029477,-0.019637008228838168,-0.05432146046743656,0.049630106193583504,0.021429383655086804,-0.05547979931441695,0.07027053636150325,-0.09664510158930649,0.05951372577825695,0.04229347379693025,-0.10008116234053224,-0.19951346596985117,-0.001915731042407557,0.003273966629687427,0.06592575798464433,-0.1467989484399331,-0.015038829258188556,-0.10981450136223898,0.29156688897369043,-0.09423105874127696,-0.0451930197227972,0.06141499562577446,-0.022875263398745252,0.10893022805789226,-0.09181389711222042,-0.019180625892897308,-0.21420473174749988,0.09745069360214088,-0.14750063704718083,0.1221849074081795,0.00454582170700233,0.0772637629433708,0.20844132415938868,-0.049012615838327125,0.1317976731357562,0.1264682432418111,-0.018429034068053338,0.1693005701456247,-0.18616133739339386,0.14327888884503823,-0.06983605277844475,0.08969053256192497,-0.0681422012596956,0.09814445313242028,0.12908116013775542,0.040724496229423875,-0.0074108692784679055,-0.11007130381894999,0.025988811778131,0.04485403570605381,-0.09642457940974765,-0.09668969830832928,-0.06481597755268455,0.015939727773136122,0.1475577411095267,-0.06333810424925011,0.08102969566541447,-0.04692435671367056,0.022014358247189534,0.10455286705957595,0.10080849586032326,0.15869437230981676,-0.0018980106916558462],\"nbinsx\":30}];\n",
       "           var layout = \"\";\n",
       "           Plotly.newPlot('da04f7ee-3e4e-430f-b121-52f124aa9801', data, layout);\n",
       "        \r\n",
       "});\n",
       "};\r\n",
       "// ensure `require` is available globally\r\n",
       "if ((typeof(require) !==  typeof(Function)) || (typeof(require.config) !== typeof(Function))) {\r\n",
       "    let require_script = document.createElement('script');\r\n",
       "    require_script.setAttribute('src', 'https://cdnjs.cloudflare.com/ajax/libs/require.js/2.3.6/require.min.js');\r\n",
       "    require_script.setAttribute('type', 'text/javascript');\r\n",
       "    \r\n",
       "    \r\n",
       "    require_script.onload = function() {\r\n",
       "        renderPlotly();\r\n",
       "    };\r\n",
       "\r\n",
       "    document.getElementsByTagName('head')[0].appendChild(require_script);\r\n",
       "}\r\n",
       "else {\r\n",
       "    renderPlotly();\r\n",
       "}\r\n",
       "\r\n",
       "</script>\r\n"
      ]
     },
     "metadata": {},
     "output_type": "display_data"
    }
   ],
   "source": [
    "PrimitiveDataFrameColumn<double> doubles = new PrimitiveDataFrameColumn<double>(\"Normal Distribution\", normalDist.Samples().Take(1000));\n",
    "display(Chart.Plot(\n",
    "    new Histogram()\n",
    "    {\n",
    "        x = doubles,\n",
    "        nbinsx = 30\n",
    "    }\n",
    "));"
   ]
  },
  {
   "cell_type": "code",
   "execution_count": null,
   "id": "martial-academy",
   "metadata": {},
   "outputs": [],
   "source": []
  },
  {
   "cell_type": "code",
   "execution_count": null,
   "id": "bibliographic-distance",
   "metadata": {},
   "outputs": [],
   "source": []
  }
 ],
 "metadata": {
  "kernelspec": {
   "display_name": ".NET (C#)",
   "language": "C#",
   "name": ".net-csharp"
  },
  "language_info": {
   "file_extension": ".cs",
   "mimetype": "text/x-csharp",
   "name": "C#",
   "pygments_lexer": "csharp",
   "version": "9.0"
  }
 },
 "nbformat": 4,
 "nbformat_minor": 5
}
